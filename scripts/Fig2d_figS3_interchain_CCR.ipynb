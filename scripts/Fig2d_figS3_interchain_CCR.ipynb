{
 "cells": [
  {
   "cell_type": "code",
   "execution_count": 1,
   "id": "dd542ebb-8c7d-4e73-a042-df6b6add58fc",
   "metadata": {},
   "outputs": [],
   "source": [
    "\"\"\"\n",
    "The Inter-Chain compactness factor (CCR) Analysis Script for Submission\n",
    "\n",
    "Author: Qin Zhang\n",
    "Created: 2025-06-11\n",
    "Last Modified: 2025-06-11\n",
    "License: MIT License\n",
    "\n",
    "This script analyzes inter-chain compactness factor (CCR) in RNA systems under varying salt concentrations.\n",
    "\"\"\"\n",
    "# %% Cell 1: Data Paths and System Configurations\n",
    "import numpy as np\n",
    "import MDAnalysis as mda\n",
    "from scipy.spatial import cKDTree\n",
    "from tqdm import tqdm\n",
    "import os\n",
    "import matplotlib.pyplot as plt\n",
    "import pandas as pd\n",
    "from matplotlib.ticker import MultipleLocator, FormatStrFormatter\n",
    "\"\"\"\n",
    "Define file paths for MD simulation trajectories of RNA systems with different\n",
    "repeat lengths (3x, 5x, 8x G4C2) and salt conditions.\n",
    "Data source: Zenodo repository (DOI: 10.5281/zenodo.15608685)\n",
    "\"\"\"\n",
    "conditions_3x = {\n",
    "    \"neutral\":   \"/media/qzhang04/3xG4C2/zenodo/A_3xG4C2_800uM_12_Na_neutral/lake_10us/\",\n",
    "    \"17mMNaCl\":  \"/media/qzhang04/3xG4C2/zenodo/A_3xG4C2_800uM_12_17mMNaCl_10mMMgCl2/lake_10us/\",\n",
    "    \"35mMNaCl\":  \"/media/qzhang04/3xG4C2/zenodo/A_3xG4C2_800uM_12_35mMNaCl_21mMMgCl2/lake_10us/\",\n",
    "    \"70mMNaCl\":  \"/media/qzhang04/3xG4C2/zenodo/A_3xG4C2_800uM_12_70mMNaCl_42mMMgCl2/lake_10us/\",\n",
    "    \"139mMNaCl\": \"/media/qzhang04/3xG4C2/zenodo/A_3xG4C2_800uM_12_139mMNaCl_83mMMgCl2/lake_10us/\",\n",
    "    \"278mMNaCl\": \"/media/qzhang04/3xG4C2/zenodo/A_3xG4C2_800uM_12_278mMNaCl_167mMMgCl2/lake_10us/\",\n",
    "    \"487mMNaCl\": \"/media/qzhang04/3xG4C2/zenodo/A_3xG4C2_800uM_12_487mMNaCl_292mMMgCl2/lake_10us/\",\n",
    "    \"696mMNaCl\": \"/media/qzhang04/3xG4C2/zenodo/A_3xG4C2_800uM_12_696mMNaCl_417mMMgCl2/lake_10us/\"\n",
    "}\n",
    "conditions_5x = {\n",
    "    \"neutral\":   \"/media/qzhang04/3xG4C2/zenodo/B_5xG4C2_800uM_12_Na_neutral/lake_10us/\",\n",
    "    \"17mMNaCl\":  \"/media/qzhang04/3xG4C2/zenodo/B_5xG4C2_800uM_12_17mMNaCl_10mMMgCl2/lake_10us/\",\n",
    "    \"35mMNaCl\":  \"/media/qzhang04/3xG4C2/zenodo/B_5xG4C2_800uM_12_35mMNaCl_21mMMgCl2/lake_10us/\",\n",
    "    \"70mMNaCl\":  \"/media/qzhang04/3xG4C2/zenodo/B_5xG4C2_800uM_12_70mMNaCl_42mMMgCl2/lake_10us/\",\n",
    "    \"139mMNaCl\": \"/media/qzhang04/3xG4C2/zenodo/B_5xG4C2_800uM_12_139mMNaCl_83mMMgCl2/lake_10us/\",\n",
    "    \"278mMNaCl\": \"/media/qzhang04/3xG4C2/zenodo/B_5xG4C2_800uM_12_278mMNaCl_167mMMgCl2/lake_10us/\",\n",
    "    \"487mMNaCl\": \"/media/qzhang04/3xG4C2/zenodo/B_5xG4C2_800uM_12_487mMNaCl_292mMMgCl2/lake_10us/\",\n",
    "    \"696mMNaCl\": \"/media/qzhang04/3xG4C2/zenodo/B_5xG4C2_800uM_12_696mMNaCl_417mMMgCl2/lake_10us/\"\n",
    "}\n",
    "conditions_8x = {\n",
    "    \"487mMNaCl\": \"/media/qzhang04/3xG4C2/zenodo/C_8xG4C2_800uM_12_487mMNaCl_292mMMgCl2/lake_10us/\"}\n",
    "\"\"\"\n",
    "Define chain index ranges for different RNA systems.\n",
    "Each chain corresponds to a specific segment of the RNA molecule.\n",
    "\"\"\"\n",
    "chains_3x = { \n",
    "    \"ch1\": 'index 0 to 215',\n",
    "    \"ch2\": 'index 216 to 431',\n",
    "    \"ch3\": 'index 432 to 647',\n",
    "    \"ch4\": 'index 648 to 863',\n",
    "    \"ch5\": 'index 864 to 1079',\n",
    "    \"ch6\": 'index 1080 to 1295',\n",
    "    \"ch7\": 'index 1296 to 1511',\n",
    "    \"ch8\": 'index 1512 to 1727',\n",
    "    \"ch9\": 'index 1728 to 1943',\n",
    "    \"ch10\": 'index 1944 to 2159',\n",
    "    \"ch11\": 'index 2160 to 2375',\n",
    "    \"ch12\": 'index 2376 to 2591'\n",
    "}\n",
    "chains_5x = {\n",
    "    \"ch1\": 'index 0 to 359',\n",
    "    \"ch2\": 'index 360 to 719',\n",
    "    \"ch3\": 'index 720 to 1079', \n",
    "    \"ch4\": 'index 1080 to 1439',\n",
    "    \"ch5\": 'index 1440 to 1799',\n",
    "    \"ch6\": 'index 1800 to 2159',\n",
    "    \"ch7\": 'index 2160 to 2519',\n",
    "    \"ch8\": 'index 2520 to 2879',\n",
    "    \"ch9\": 'index 2880 to 3239',\n",
    "    \"ch10\": 'index 3240 to 3599',\n",
    "    \"ch11\": 'index 3600 to 3959',\n",
    "    \"ch12\": 'index 3960 to 4319'\n",
    "}\n",
    "chains_8x = {\n",
    "    \"ch1\": 'index 0 to 575',\n",
    "    \"ch2\": 'index 576 to 1151',\n",
    "    \"ch3\": 'index 1152 to 1727',\n",
    "    \"ch4\": 'index 1728 to 2303',\n",
    "    \"ch5\": 'index 2304 to 2879',\n",
    "    \"ch6\": 'index 2880 to 3455',\n",
    "    \"ch7\": 'index 3456 to 4031',\n",
    "    \"ch8\": 'index 4032 to 4607',\n",
    "    \"ch9\": 'index 4608 to 5183',\n",
    "    \"ch10\": 'index 5184 to 5759',\n",
    "    \"ch11\": 'index 5760 to 6335',\n",
    "    \"ch12\": 'index 6336 to 6911'\n",
    "}\n",
    "stride = 25   #frame sampling"
   ]
  },
  {
   "cell_type": "code",
   "execution_count": 2,
   "id": "68522441-8bb3-4e7a-9416-9262b29b6f3e",
   "metadata": {},
   "outputs": [],
   "source": [
    "# %% Cell 2: Core Functions for Inter-Chain CCR\n",
    "def calculate_inter_chain_ccr(positions, bead_diameter=0):\n",
    "    \"\"\"\n",
    "    Compute inter-chain compactness factor (CCR) for RNA systems.\n",
    "    \n",
    "    Parameters:\n",
    "        positions (list of arrays): Coordinates of 'BB' beads for each chain\n",
    "        bead_diameter (float): Bead diameter (Å) for distance correction\n",
    "        \n",
    "    Returns:\n",
    "        float: Inter-chain CCR value, calculated as Σ[1/(1+d²)]\n",
    "               where d is the corrected inter-chain bead distance\n",
    "    \"\"\"\n",
    "    all_beads = np.concatenate(positions)\n",
    "    n_beads = len(all_beads)\n",
    "    \n",
    "    # Create chain membership array\n",
    "    chain_ids = []\n",
    "    for i, chain in enumerate(positions):\n",
    "        chain_ids.extend([i] * len(chain))\n",
    "    chain_ids = np.array(chain_ids)\n",
    "\n",
    "    # Efficiently compute distance matrix using KD-tree\n",
    "    tree = cKDTree(all_beads)\n",
    "    dist_matrix = tree.sparse_distance_matrix(tree, max_distance=520, output_type='coo_matrix')\n",
    "    \n",
    "    \n",
    "    # Calculate contributions only from inter-chain contacts\n",
    "    ccr_sum = 0.0\n",
    "    for i, j, d in zip(dist_matrix.row, dist_matrix.col, dist_matrix.data):\n",
    "        if i < j and chain_ids[i] != chain_ids[j]:\n",
    "            adjusted_d = max(0, d - bead_diameter)\n",
    "            ccr_sum += 1 / (1 + adjusted_d ** 2)\n",
    "    return ccr_sum\n",
    "\n",
    "def analyze_replica_ccr(gro_file, xtc_file, chains, stride, bead_diameter=0):\n",
    "    \"\"\"\n",
    "    Analyze inter-chain CCR time series for a single simulation replica.\n",
    "    \n",
    "    Parameters:\n",
    "        gro_file (str): Path to initial structure file\n",
    "        xtc_file (str): Path to trajectory file\n",
    "        chains (dict): Chain index configuration dictionary\n",
    "        stride (int): Trajectory frame sampling interval\n",
    "        bead_diameter (float): Bead diameter (Å)\n",
    "        \n",
    "    Returns:\n",
    "        tuple: (Time series in μs, CCR value series)\n",
    "    \"\"\"\n",
    "    u = mda.Universe(gro_file, xtc_file)\n",
    "    selections = [u.select_atoms(f\"{chain} and name BB\") for chain in chains.values()]\n",
    "    \n",
    "    times = []\n",
    "    ccr_values = []\n",
    "    for ts in tqdm(u.trajectory[::stride], desc=\"Analyzing frames\"):\n",
    "        u.atoms.pack_into_box() # Handle periodic boundary conditions\n",
    "        current_positions = [ag.positions.copy() for ag in selections]\n",
    "        times.append(ts.time / 1000000) # Convert time to μs\n",
    "        ccr = calculate_inter_chain_ccr(current_positions, bead_diameter=bead_diameter)\n",
    "        ccr_values.append(ccr)\n",
    "    return np.array(times), np.array(ccr_values)"
   ]
  },
  {
   "cell_type": "code",
   "execution_count": 3,
   "id": "f20800c2-fe7d-4c2f-8623-d12d0e5e8aa1",
   "metadata": {},
   "outputs": [],
   "source": [
    "# %% Cell 3: Analysis for CCR Time Series with Detailed SD Calculation\n",
    "def analyze_conditions_ccr(conditions, chains, stride, bead_diameter=0, condition_type=\"\"):\n",
    "    \"\"\"\n",
    "    Analyze CCR across all conditions and return time-aligned statistics.\n",
    "    \n",
    "    Parameters:\n",
    "        conditions (dict): Condition-path mapping dictionary\n",
    "        chains (dict): Chain index configuration dictionary\n",
    "        stride (int): Trajectory frame sampling interval\n",
    "        bead_diameter (float): Bead diameter (Å)\n",
    "        condition_type (str): System type identifier (e.g., 3xG4C2)\n",
    "        \n",
    "    Returns:\n",
    "        dict: Analysis results for each condition in the format:\n",
    "              results[condition] = (times, ccr_avg, ccr_std, global_mean, sd)\n",
    "    \"\"\"\n",
    "    results = {}\n",
    "    for cond_name, base_path in conditions.items():\n",
    "        print(f\"\\nAnalyzing {condition_type} - {cond_name}\")\n",
    "        all_times, all_ccr = [], []\n",
    "        replica_means = []   # Store mean CCR for each replica for SD calculation\n",
    "        \n",
    "        # Process data from 4 replicas (C1-C4)\n",
    "        for replica in [\"C1\", \"C2\", \"C3\", \"C4\"]:\n",
    "            gro_path = os.path.join(base_path, replica, \"RNA.gro\")\n",
    "            xtc_path = os.path.join(base_path, replica, \"RNA_clusterRNA.xtc\")\n",
    "            if not os.path.exists(gro_path) or not os.path.exists(xtc_path):\n",
    "                print(f\"Missing {replica} files\")\n",
    "                continue\n",
    "            \n",
    "            times, ccr = analyze_replica_ccr(gro_path, xtc_path, chains, stride, bead_diameter)\n",
    "            all_times.append(times)\n",
    "            all_ccr.append(ccr)\n",
    "            \n",
    "            # Calculate mean CCR for this replica\n",
    "            replica_mean = np.mean(ccr)\n",
    "            replica_means.append(replica_mean)\n",
    "            print(f\"  {replica} mean CCR: {replica_mean:.2f}\")\n",
    "        \n",
    "        if replica_means:\n",
    "            # Calculate global mean and replica-to-replica standard deviation (with Bessel's correction)\n",
    "            global_mean = np.mean(replica_means)\n",
    "            deviations = [rm - global_mean for rm in replica_means]\n",
    "            sd = np.sqrt(sum(d**2 for d in deviations) / (len(replica_means)-1))\n",
    "            \n",
    "            print(f\"\\nCondition: {cond_name}\")\n",
    "            print(f\"Replica means: {[f'{m:.2f}' for m in replica_means]}\")\n",
    "            print(f\"Global mean CCR: {global_mean:.2f}\")\n",
    "            print(f\"Replica-to-replica SD: {sd:.2f}\\n\")\n",
    "        # Align time series and store results\n",
    "        if all_ccr:\n",
    "            avg_ccr = np.mean(all_ccr, axis=0)\n",
    "            std_ccr = np.std(all_ccr, axis=0)\n",
    "            results[cond_name] = (times, avg_ccr, std_ccr, global_mean, sd)\n",
    "    return results          "
   ]
  },
  {
   "cell_type": "code",
   "execution_count": 4,
   "id": "a3cbbb41-d059-423c-8209-4b1fffb9b8b0",
   "metadata": {
    "scrolled": true
   },
   "outputs": [
    {
     "name": "stdout",
     "output_type": "stream",
     "text": [
      "\n",
      "Analyzing 3xG4C2 - neutral\n"
     ]
    },
    {
     "name": "stderr",
     "output_type": "stream",
     "text": [
      "Analyzing frames: 100%|█████████████████████████████████████████████████████████████████████████████████████████████████████████████████████████████████████████████████████████████| 401/401 [00:07<00:00, 53.58it/s]\n"
     ]
    },
    {
     "name": "stdout",
     "output_type": "stream",
     "text": [
      "  C1 mean CCR: 19.37\n"
     ]
    },
    {
     "name": "stderr",
     "output_type": "stream",
     "text": [
      "Analyzing frames: 100%|█████████████████████████████████████████████████████████████████████████████████████████████████████████████████████████████████████████████████████████████| 401/401 [00:07<00:00, 55.45it/s]\n"
     ]
    },
    {
     "name": "stdout",
     "output_type": "stream",
     "text": [
      "  C2 mean CCR: 17.51\n"
     ]
    },
    {
     "name": "stderr",
     "output_type": "stream",
     "text": [
      "Analyzing frames: 100%|█████████████████████████████████████████████████████████████████████████████████████████████████████████████████████████████████████████████████████████████| 401/401 [00:07<00:00, 55.67it/s]\n"
     ]
    },
    {
     "name": "stdout",
     "output_type": "stream",
     "text": [
      "  C3 mean CCR: 19.53\n"
     ]
    },
    {
     "name": "stderr",
     "output_type": "stream",
     "text": [
      "Analyzing frames: 100%|█████████████████████████████████████████████████████████████████████████████████████████████████████████████████████████████████████████████████████████████| 401/401 [00:07<00:00, 54.96it/s]\n"
     ]
    },
    {
     "name": "stdout",
     "output_type": "stream",
     "text": [
      "  C4 mean CCR: 20.93\n",
      "\n",
      "Condition: neutral\n",
      "Replica means: ['19.37', '17.51', '19.53', '20.93']\n",
      "Global mean CCR: 19.34\n",
      "Replica-to-replica SD: 1.41\n",
      "\n",
      "\n",
      "Analyzing 3xG4C2 - 17mMNaCl\n"
     ]
    },
    {
     "name": "stderr",
     "output_type": "stream",
     "text": [
      "Analyzing frames: 100%|█████████████████████████████████████████████████████████████████████████████████████████████████████████████████████████████████████████████████████████████| 401/401 [00:07<00:00, 55.30it/s]\n"
     ]
    },
    {
     "name": "stdout",
     "output_type": "stream",
     "text": [
      "  C1 mean CCR: 12.83\n"
     ]
    },
    {
     "name": "stderr",
     "output_type": "stream",
     "text": [
      "Analyzing frames: 100%|█████████████████████████████████████████████████████████████████████████████████████████████████████████████████████████████████████████████████████████████| 401/401 [00:07<00:00, 54.59it/s]\n"
     ]
    },
    {
     "name": "stdout",
     "output_type": "stream",
     "text": [
      "  C2 mean CCR: 14.73\n"
     ]
    },
    {
     "name": "stderr",
     "output_type": "stream",
     "text": [
      "Analyzing frames: 100%|█████████████████████████████████████████████████████████████████████████████████████████████████████████████████████████████████████████████████████████████| 401/401 [00:07<00:00, 55.87it/s]\n"
     ]
    },
    {
     "name": "stdout",
     "output_type": "stream",
     "text": [
      "  C3 mean CCR: 10.64\n"
     ]
    },
    {
     "name": "stderr",
     "output_type": "stream",
     "text": [
      "Analyzing frames: 100%|█████████████████████████████████████████████████████████████████████████████████████████████████████████████████████████████████████████████████████████████| 401/401 [00:07<00:00, 56.93it/s]\n"
     ]
    },
    {
     "name": "stdout",
     "output_type": "stream",
     "text": [
      "  C4 mean CCR: 12.86\n",
      "\n",
      "Condition: 17mMNaCl\n",
      "Replica means: ['12.83', '14.73', '10.64', '12.86']\n",
      "Global mean CCR: 12.77\n",
      "Replica-to-replica SD: 1.67\n",
      "\n",
      "\n",
      "Analyzing 3xG4C2 - 35mMNaCl\n"
     ]
    },
    {
     "name": "stderr",
     "output_type": "stream",
     "text": [
      "Analyzing frames: 100%|█████████████████████████████████████████████████████████████████████████████████████████████████████████████████████████████████████████████████████████████| 401/401 [00:07<00:00, 55.47it/s]\n"
     ]
    },
    {
     "name": "stdout",
     "output_type": "stream",
     "text": [
      "  C1 mean CCR: 11.08\n"
     ]
    },
    {
     "name": "stderr",
     "output_type": "stream",
     "text": [
      "Analyzing frames: 100%|█████████████████████████████████████████████████████████████████████████████████████████████████████████████████████████████████████████████████████████████| 401/401 [00:07<00:00, 56.22it/s]\n"
     ]
    },
    {
     "name": "stdout",
     "output_type": "stream",
     "text": [
      "  C2 mean CCR: 8.48\n"
     ]
    },
    {
     "name": "stderr",
     "output_type": "stream",
     "text": [
      "Analyzing frames: 100%|█████████████████████████████████████████████████████████████████████████████████████████████████████████████████████████████████████████████████████████████| 401/401 [00:07<00:00, 56.68it/s]\n"
     ]
    },
    {
     "name": "stdout",
     "output_type": "stream",
     "text": [
      "  C3 mean CCR: 10.35\n"
     ]
    },
    {
     "name": "stderr",
     "output_type": "stream",
     "text": [
      "Analyzing frames: 100%|█████████████████████████████████████████████████████████████████████████████████████████████████████████████████████████████████████████████████████████████| 401/401 [00:07<00:00, 56.42it/s]\n"
     ]
    },
    {
     "name": "stdout",
     "output_type": "stream",
     "text": [
      "  C4 mean CCR: 10.15\n",
      "\n",
      "Condition: 35mMNaCl\n",
      "Replica means: ['11.08', '8.48', '10.35', '10.15']\n",
      "Global mean CCR: 10.01\n",
      "Replica-to-replica SD: 1.10\n",
      "\n",
      "\n",
      "Analyzing 3xG4C2 - 70mMNaCl\n"
     ]
    },
    {
     "name": "stderr",
     "output_type": "stream",
     "text": [
      "Analyzing frames: 100%|█████████████████████████████████████████████████████████████████████████████████████████████████████████████████████████████████████████████████████████████| 401/401 [00:07<00:00, 55.78it/s]\n"
     ]
    },
    {
     "name": "stdout",
     "output_type": "stream",
     "text": [
      "  C1 mean CCR: 7.16\n"
     ]
    },
    {
     "name": "stderr",
     "output_type": "stream",
     "text": [
      "Analyzing frames: 100%|█████████████████████████████████████████████████████████████████████████████████████████████████████████████████████████████████████████████████████████████| 401/401 [00:07<00:00, 55.68it/s]\n"
     ]
    },
    {
     "name": "stdout",
     "output_type": "stream",
     "text": [
      "  C2 mean CCR: 8.66\n"
     ]
    },
    {
     "name": "stderr",
     "output_type": "stream",
     "text": [
      "Analyzing frames: 100%|█████████████████████████████████████████████████████████████████████████████████████████████████████████████████████████████████████████████████████████████| 401/401 [00:07<00:00, 54.63it/s]\n"
     ]
    },
    {
     "name": "stdout",
     "output_type": "stream",
     "text": [
      "  C3 mean CCR: 8.61\n"
     ]
    },
    {
     "name": "stderr",
     "output_type": "stream",
     "text": [
      "Analyzing frames: 100%|█████████████████████████████████████████████████████████████████████████████████████████████████████████████████████████████████████████████████████████████| 401/401 [00:07<00:00, 54.85it/s]\n"
     ]
    },
    {
     "name": "stdout",
     "output_type": "stream",
     "text": [
      "  C4 mean CCR: 7.74\n",
      "\n",
      "Condition: 70mMNaCl\n",
      "Replica means: ['7.16', '8.66', '8.61', '7.74']\n",
      "Global mean CCR: 8.04\n",
      "Replica-to-replica SD: 0.72\n",
      "\n",
      "\n",
      "Analyzing 3xG4C2 - 139mMNaCl\n"
     ]
    },
    {
     "name": "stderr",
     "output_type": "stream",
     "text": [
      "Analyzing frames: 100%|█████████████████████████████████████████████████████████████████████████████████████████████████████████████████████████████████████████████████████████████| 401/401 [00:07<00:00, 55.32it/s]\n"
     ]
    },
    {
     "name": "stdout",
     "output_type": "stream",
     "text": [
      "  C1 mean CCR: 7.76\n"
     ]
    },
    {
     "name": "stderr",
     "output_type": "stream",
     "text": [
      "Analyzing frames: 100%|█████████████████████████████████████████████████████████████████████████████████████████████████████████████████████████████████████████████████████████████| 401/401 [00:07<00:00, 54.83it/s]\n"
     ]
    },
    {
     "name": "stdout",
     "output_type": "stream",
     "text": [
      "  C2 mean CCR: 7.03\n"
     ]
    },
    {
     "name": "stderr",
     "output_type": "stream",
     "text": [
      "Analyzing frames: 100%|█████████████████████████████████████████████████████████████████████████████████████████████████████████████████████████████████████████████████████████████| 401/401 [00:07<00:00, 55.72it/s]\n"
     ]
    },
    {
     "name": "stdout",
     "output_type": "stream",
     "text": [
      "  C3 mean CCR: 6.03\n"
     ]
    },
    {
     "name": "stderr",
     "output_type": "stream",
     "text": [
      "Analyzing frames: 100%|█████████████████████████████████████████████████████████████████████████████████████████████████████████████████████████████████████████████████████████████| 401/401 [00:07<00:00, 54.84it/s]\n"
     ]
    },
    {
     "name": "stdout",
     "output_type": "stream",
     "text": [
      "  C4 mean CCR: 7.66\n",
      "\n",
      "Condition: 139mMNaCl\n",
      "Replica means: ['7.76', '7.03', '6.03', '7.66']\n",
      "Global mean CCR: 7.12\n",
      "Replica-to-replica SD: 0.80\n",
      "\n",
      "\n",
      "Analyzing 3xG4C2 - 278mMNaCl\n"
     ]
    },
    {
     "name": "stderr",
     "output_type": "stream",
     "text": [
      "Analyzing frames: 100%|█████████████████████████████████████████████████████████████████████████████████████████████████████████████████████████████████████████████████████████████| 401/401 [00:07<00:00, 55.65it/s]\n"
     ]
    },
    {
     "name": "stdout",
     "output_type": "stream",
     "text": [
      "  C1 mean CCR: 4.87\n"
     ]
    },
    {
     "name": "stderr",
     "output_type": "stream",
     "text": [
      "Analyzing frames: 100%|█████████████████████████████████████████████████████████████████████████████████████████████████████████████████████████████████████████████████████████████| 401/401 [00:07<00:00, 55.82it/s]\n"
     ]
    },
    {
     "name": "stdout",
     "output_type": "stream",
     "text": [
      "  C2 mean CCR: 4.89\n"
     ]
    },
    {
     "name": "stderr",
     "output_type": "stream",
     "text": [
      "Analyzing frames: 100%|█████████████████████████████████████████████████████████████████████████████████████████████████████████████████████████████████████████████████████████████| 401/401 [00:07<00:00, 55.75it/s]\n"
     ]
    },
    {
     "name": "stdout",
     "output_type": "stream",
     "text": [
      "  C3 mean CCR: 5.57\n"
     ]
    },
    {
     "name": "stderr",
     "output_type": "stream",
     "text": [
      "Analyzing frames: 100%|█████████████████████████████████████████████████████████████████████████████████████████████████████████████████████████████████████████████████████████████| 401/401 [00:07<00:00, 55.01it/s]\n"
     ]
    },
    {
     "name": "stdout",
     "output_type": "stream",
     "text": [
      "  C4 mean CCR: 5.57\n",
      "\n",
      "Condition: 278mMNaCl\n",
      "Replica means: ['4.87', '4.89', '5.57', '5.57']\n",
      "Global mean CCR: 5.22\n",
      "Replica-to-replica SD: 0.40\n",
      "\n",
      "\n",
      "Analyzing 3xG4C2 - 487mMNaCl\n"
     ]
    },
    {
     "name": "stderr",
     "output_type": "stream",
     "text": [
      "Analyzing frames: 100%|█████████████████████████████████████████████████████████████████████████████████████████████████████████████████████████████████████████████████████████████| 401/401 [00:07<00:00, 54.53it/s]\n"
     ]
    },
    {
     "name": "stdout",
     "output_type": "stream",
     "text": [
      "  C1 mean CCR: 2.37\n"
     ]
    },
    {
     "name": "stderr",
     "output_type": "stream",
     "text": [
      "Analyzing frames: 100%|█████████████████████████████████████████████████████████████████████████████████████████████████████████████████████████████████████████████████████████████| 401/401 [00:07<00:00, 54.55it/s]\n"
     ]
    },
    {
     "name": "stdout",
     "output_type": "stream",
     "text": [
      "  C2 mean CCR: 2.31\n"
     ]
    },
    {
     "name": "stderr",
     "output_type": "stream",
     "text": [
      "Analyzing frames: 100%|█████████████████████████████████████████████████████████████████████████████████████████████████████████████████████████████████████████████████████████████| 401/401 [00:07<00:00, 54.29it/s]\n"
     ]
    },
    {
     "name": "stdout",
     "output_type": "stream",
     "text": [
      "  C3 mean CCR: 2.32\n"
     ]
    },
    {
     "name": "stderr",
     "output_type": "stream",
     "text": [
      "Analyzing frames: 100%|█████████████████████████████████████████████████████████████████████████████████████████████████████████████████████████████████████████████████████████████| 401/401 [00:07<00:00, 55.85it/s]\n"
     ]
    },
    {
     "name": "stdout",
     "output_type": "stream",
     "text": [
      "  C4 mean CCR: 2.99\n",
      "\n",
      "Condition: 487mMNaCl\n",
      "Replica means: ['2.37', '2.31', '2.32', '2.99']\n",
      "Global mean CCR: 2.50\n",
      "Replica-to-replica SD: 0.33\n",
      "\n",
      "\n",
      "Analyzing 3xG4C2 - 696mMNaCl\n"
     ]
    },
    {
     "name": "stderr",
     "output_type": "stream",
     "text": [
      "Analyzing frames: 100%|█████████████████████████████████████████████████████████████████████████████████████████████████████████████████████████████████████████████████████████████| 401/401 [00:07<00:00, 54.42it/s]\n"
     ]
    },
    {
     "name": "stdout",
     "output_type": "stream",
     "text": [
      "  C1 mean CCR: 1.36\n"
     ]
    },
    {
     "name": "stderr",
     "output_type": "stream",
     "text": [
      "Analyzing frames: 100%|█████████████████████████████████████████████████████████████████████████████████████████████████████████████████████████████████████████████████████████████| 401/401 [00:07<00:00, 52.66it/s]\n"
     ]
    },
    {
     "name": "stdout",
     "output_type": "stream",
     "text": [
      "  C2 mean CCR: 1.34\n"
     ]
    },
    {
     "name": "stderr",
     "output_type": "stream",
     "text": [
      "Analyzing frames: 100%|█████████████████████████████████████████████████████████████████████████████████████████████████████████████████████████████████████████████████████████████| 401/401 [00:07<00:00, 54.41it/s]\n"
     ]
    },
    {
     "name": "stdout",
     "output_type": "stream",
     "text": [
      "  C3 mean CCR: 1.67\n"
     ]
    },
    {
     "name": "stderr",
     "output_type": "stream",
     "text": [
      "Analyzing frames: 100%|█████████████████████████████████████████████████████████████████████████████████████████████████████████████████████████████████████████████████████████████| 401/401 [00:07<00:00, 52.17it/s]\n"
     ]
    },
    {
     "name": "stdout",
     "output_type": "stream",
     "text": [
      "  C4 mean CCR: 1.58\n",
      "\n",
      "Condition: 696mMNaCl\n",
      "Replica means: ['1.36', '1.34', '1.67', '1.58']\n",
      "Global mean CCR: 1.49\n",
      "Replica-to-replica SD: 0.16\n",
      "\n",
      "\n",
      "Analyzing 5xG4C2 - neutral\n"
     ]
    },
    {
     "name": "stderr",
     "output_type": "stream",
     "text": [
      "Analyzing frames: 100%|█████████████████████████████████████████████████████████████████████████████████████████████████████████████████████████████████████████████████████████████| 401/401 [00:20<00:00, 19.39it/s]\n"
     ]
    },
    {
     "name": "stdout",
     "output_type": "stream",
     "text": [
      "  C1 mean CCR: 26.35\n"
     ]
    },
    {
     "name": "stderr",
     "output_type": "stream",
     "text": [
      "Analyzing frames: 100%|█████████████████████████████████████████████████████████████████████████████████████████████████████████████████████████████████████████████████████████████| 401/401 [00:20<00:00, 19.72it/s]\n"
     ]
    },
    {
     "name": "stdout",
     "output_type": "stream",
     "text": [
      "  C2 mean CCR: 34.19\n"
     ]
    },
    {
     "name": "stderr",
     "output_type": "stream",
     "text": [
      "Analyzing frames: 100%|█████████████████████████████████████████████████████████████████████████████████████████████████████████████████████████████████████████████████████████████| 401/401 [00:20<00:00, 19.49it/s]\n"
     ]
    },
    {
     "name": "stdout",
     "output_type": "stream",
     "text": [
      "  C3 mean CCR: 34.15\n"
     ]
    },
    {
     "name": "stderr",
     "output_type": "stream",
     "text": [
      "Analyzing frames: 100%|█████████████████████████████████████████████████████████████████████████████████████████████████████████████████████████████████████████████████████████████| 401/401 [00:19<00:00, 20.20it/s]\n"
     ]
    },
    {
     "name": "stdout",
     "output_type": "stream",
     "text": [
      "  C4 mean CCR: 28.93\n",
      "\n",
      "Condition: neutral\n",
      "Replica means: ['26.35', '34.19', '34.15', '28.93']\n",
      "Global mean CCR: 30.90\n",
      "Replica-to-replica SD: 3.91\n",
      "\n",
      "\n",
      "Analyzing 5xG4C2 - 17mMNaCl\n"
     ]
    },
    {
     "name": "stderr",
     "output_type": "stream",
     "text": [
      "Analyzing frames: 100%|█████████████████████████████████████████████████████████████████████████████████████████████████████████████████████████████████████████████████████████████| 401/401 [00:19<00:00, 20.41it/s]\n"
     ]
    },
    {
     "name": "stdout",
     "output_type": "stream",
     "text": [
      "  C1 mean CCR: 27.46\n"
     ]
    },
    {
     "name": "stderr",
     "output_type": "stream",
     "text": [
      "Analyzing frames: 100%|█████████████████████████████████████████████████████████████████████████████████████████████████████████████████████████████████████████████████████████████| 401/401 [00:19<00:00, 20.09it/s]\n"
     ]
    },
    {
     "name": "stdout",
     "output_type": "stream",
     "text": [
      "  C2 mean CCR: 22.10\n"
     ]
    },
    {
     "name": "stderr",
     "output_type": "stream",
     "text": [
      "Analyzing frames: 100%|█████████████████████████████████████████████████████████████████████████████████████████████████████████████████████████████████████████████████████████████| 401/401 [00:20<00:00, 19.92it/s]\n"
     ]
    },
    {
     "name": "stdout",
     "output_type": "stream",
     "text": [
      "  C3 mean CCR: 26.86\n"
     ]
    },
    {
     "name": "stderr",
     "output_type": "stream",
     "text": [
      "Analyzing frames: 100%|█████████████████████████████████████████████████████████████████████████████████████████████████████████████████████████████████████████████████████████████| 401/401 [00:19<00:00, 20.37it/s]\n"
     ]
    },
    {
     "name": "stdout",
     "output_type": "stream",
     "text": [
      "  C4 mean CCR: 23.78\n",
      "\n",
      "Condition: 17mMNaCl\n",
      "Replica means: ['27.46', '22.10', '26.86', '23.78']\n",
      "Global mean CCR: 25.05\n",
      "Replica-to-replica SD: 2.54\n",
      "\n",
      "\n",
      "Analyzing 5xG4C2 - 35mMNaCl\n"
     ]
    },
    {
     "name": "stderr",
     "output_type": "stream",
     "text": [
      "Analyzing frames: 100%|█████████████████████████████████████████████████████████████████████████████████████████████████████████████████████████████████████████████████████████████| 401/401 [00:19<00:00, 20.28it/s]\n"
     ]
    },
    {
     "name": "stdout",
     "output_type": "stream",
     "text": [
      "  C1 mean CCR: 20.91\n"
     ]
    },
    {
     "name": "stderr",
     "output_type": "stream",
     "text": [
      "Analyzing frames: 100%|█████████████████████████████████████████████████████████████████████████████████████████████████████████████████████████████████████████████████████████████| 401/401 [00:19<00:00, 20.47it/s]\n"
     ]
    },
    {
     "name": "stdout",
     "output_type": "stream",
     "text": [
      "  C2 mean CCR: 25.04\n"
     ]
    },
    {
     "name": "stderr",
     "output_type": "stream",
     "text": [
      "Analyzing frames: 100%|█████████████████████████████████████████████████████████████████████████████████████████████████████████████████████████████████████████████████████████████| 401/401 [00:19<00:00, 20.73it/s]\n"
     ]
    },
    {
     "name": "stdout",
     "output_type": "stream",
     "text": [
      "  C3 mean CCR: 17.40\n"
     ]
    },
    {
     "name": "stderr",
     "output_type": "stream",
     "text": [
      "Analyzing frames: 100%|█████████████████████████████████████████████████████████████████████████████████████████████████████████████████████████████████████████████████████████████| 401/401 [00:19<00:00, 20.30it/s]\n"
     ]
    },
    {
     "name": "stdout",
     "output_type": "stream",
     "text": [
      "  C4 mean CCR: 20.96\n",
      "\n",
      "Condition: 35mMNaCl\n",
      "Replica means: ['20.91', '25.04', '17.40', '20.96']\n",
      "Global mean CCR: 21.08\n",
      "Replica-to-replica SD: 3.12\n",
      "\n",
      "\n",
      "Analyzing 5xG4C2 - 70mMNaCl\n"
     ]
    },
    {
     "name": "stderr",
     "output_type": "stream",
     "text": [
      "Analyzing frames: 100%|█████████████████████████████████████████████████████████████████████████████████████████████████████████████████████████████████████████████████████████████| 401/401 [00:19<00:00, 20.44it/s]\n"
     ]
    },
    {
     "name": "stdout",
     "output_type": "stream",
     "text": [
      "  C1 mean CCR: 15.26\n"
     ]
    },
    {
     "name": "stderr",
     "output_type": "stream",
     "text": [
      "Analyzing frames: 100%|█████████████████████████████████████████████████████████████████████████████████████████████████████████████████████████████████████████████████████████████| 401/401 [00:19<00:00, 20.27it/s]\n"
     ]
    },
    {
     "name": "stdout",
     "output_type": "stream",
     "text": [
      "  C2 mean CCR: 16.59\n"
     ]
    },
    {
     "name": "stderr",
     "output_type": "stream",
     "text": [
      "Analyzing frames: 100%|█████████████████████████████████████████████████████████████████████████████████████████████████████████████████████████████████████████████████████████████| 401/401 [00:20<00:00, 19.55it/s]\n"
     ]
    },
    {
     "name": "stdout",
     "output_type": "stream",
     "text": [
      "  C3 mean CCR: 14.98\n"
     ]
    },
    {
     "name": "stderr",
     "output_type": "stream",
     "text": [
      "Analyzing frames: 100%|█████████████████████████████████████████████████████████████████████████████████████████████████████████████████████████████████████████████████████████████| 401/401 [00:20<00:00, 19.47it/s]\n"
     ]
    },
    {
     "name": "stdout",
     "output_type": "stream",
     "text": [
      "  C4 mean CCR: 14.26\n",
      "\n",
      "Condition: 70mMNaCl\n",
      "Replica means: ['15.26', '16.59', '14.98', '14.26']\n",
      "Global mean CCR: 15.27\n",
      "Replica-to-replica SD: 0.98\n",
      "\n",
      "\n",
      "Analyzing 5xG4C2 - 139mMNaCl\n"
     ]
    },
    {
     "name": "stderr",
     "output_type": "stream",
     "text": [
      "Analyzing frames: 100%|█████████████████████████████████████████████████████████████████████████████████████████████████████████████████████████████████████████████████████████████| 401/401 [00:20<00:00, 19.32it/s]\n"
     ]
    },
    {
     "name": "stdout",
     "output_type": "stream",
     "text": [
      "  C1 mean CCR: 14.11\n"
     ]
    },
    {
     "name": "stderr",
     "output_type": "stream",
     "text": [
      "Analyzing frames: 100%|█████████████████████████████████████████████████████████████████████████████████████████████████████████████████████████████████████████████████████████████| 401/401 [00:22<00:00, 18.08it/s]\n"
     ]
    },
    {
     "name": "stdout",
     "output_type": "stream",
     "text": [
      "  C2 mean CCR: 11.27\n"
     ]
    },
    {
     "name": "stderr",
     "output_type": "stream",
     "text": [
      "Analyzing frames: 100%|█████████████████████████████████████████████████████████████████████████████████████████████████████████████████████████████████████████████████████████████| 401/401 [00:22<00:00, 18.16it/s]\n"
     ]
    },
    {
     "name": "stdout",
     "output_type": "stream",
     "text": [
      "  C3 mean CCR: 12.02\n"
     ]
    },
    {
     "name": "stderr",
     "output_type": "stream",
     "text": [
      "Analyzing frames: 100%|█████████████████████████████████████████████████████████████████████████████████████████████████████████████████████████████████████████████████████████████| 401/401 [00:20<00:00, 19.11it/s]\n"
     ]
    },
    {
     "name": "stdout",
     "output_type": "stream",
     "text": [
      "  C4 mean CCR: 12.04\n",
      "\n",
      "Condition: 139mMNaCl\n",
      "Replica means: ['14.11', '11.27', '12.02', '12.04']\n",
      "Global mean CCR: 12.36\n",
      "Replica-to-replica SD: 1.22\n",
      "\n",
      "\n",
      "Analyzing 5xG4C2 - 278mMNaCl\n"
     ]
    },
    {
     "name": "stderr",
     "output_type": "stream",
     "text": [
      "Analyzing frames: 100%|█████████████████████████████████████████████████████████████████████████████████████████████████████████████████████████████████████████████████████████████| 401/401 [00:20<00:00, 19.74it/s]\n"
     ]
    },
    {
     "name": "stdout",
     "output_type": "stream",
     "text": [
      "  C1 mean CCR: 10.01\n"
     ]
    },
    {
     "name": "stderr",
     "output_type": "stream",
     "text": [
      "Analyzing frames: 100%|█████████████████████████████████████████████████████████████████████████████████████████████████████████████████████████████████████████████████████████████| 401/401 [00:19<00:00, 20.44it/s]\n"
     ]
    },
    {
     "name": "stdout",
     "output_type": "stream",
     "text": [
      "  C2 mean CCR: 11.70\n"
     ]
    },
    {
     "name": "stderr",
     "output_type": "stream",
     "text": [
      "Analyzing frames: 100%|█████████████████████████████████████████████████████████████████████████████████████████████████████████████████████████████████████████████████████████████| 401/401 [00:19<00:00, 20.19it/s]\n"
     ]
    },
    {
     "name": "stdout",
     "output_type": "stream",
     "text": [
      "  C3 mean CCR: 9.15\n"
     ]
    },
    {
     "name": "stderr",
     "output_type": "stream",
     "text": [
      "Analyzing frames: 100%|█████████████████████████████████████████████████████████████████████████████████████████████████████████████████████████████████████████████████████████████| 401/401 [00:19<00:00, 20.19it/s]\n"
     ]
    },
    {
     "name": "stdout",
     "output_type": "stream",
     "text": [
      "  C4 mean CCR: 8.93\n",
      "\n",
      "Condition: 278mMNaCl\n",
      "Replica means: ['10.01', '11.70', '9.15', '8.93']\n",
      "Global mean CCR: 9.95\n",
      "Replica-to-replica SD: 1.25\n",
      "\n",
      "\n",
      "Analyzing 5xG4C2 - 487mMNaCl\n"
     ]
    },
    {
     "name": "stderr",
     "output_type": "stream",
     "text": [
      "Analyzing frames: 100%|█████████████████████████████████████████████████████████████████████████████████████████████████████████████████████████████████████████████████████████████| 401/401 [00:19<00:00, 20.08it/s]\n"
     ]
    },
    {
     "name": "stdout",
     "output_type": "stream",
     "text": [
      "  C1 mean CCR: 4.54\n"
     ]
    },
    {
     "name": "stderr",
     "output_type": "stream",
     "text": [
      "Analyzing frames: 100%|█████████████████████████████████████████████████████████████████████████████████████████████████████████████████████████████████████████████████████████████| 401/401 [00:20<00:00, 19.69it/s]\n"
     ]
    },
    {
     "name": "stdout",
     "output_type": "stream",
     "text": [
      "  C2 mean CCR: 4.73\n"
     ]
    },
    {
     "name": "stderr",
     "output_type": "stream",
     "text": [
      "Analyzing frames: 100%|█████████████████████████████████████████████████████████████████████████████████████████████████████████████████████████████████████████████████████████████| 401/401 [00:20<00:00, 19.99it/s]\n"
     ]
    },
    {
     "name": "stdout",
     "output_type": "stream",
     "text": [
      "  C3 mean CCR: 6.04\n"
     ]
    },
    {
     "name": "stderr",
     "output_type": "stream",
     "text": [
      "Analyzing frames: 100%|█████████████████████████████████████████████████████████████████████████████████████████████████████████████████████████████████████████████████████████████| 401/401 [00:19<00:00, 20.29it/s]\n"
     ]
    },
    {
     "name": "stdout",
     "output_type": "stream",
     "text": [
      "  C4 mean CCR: 5.23\n",
      "\n",
      "Condition: 487mMNaCl\n",
      "Replica means: ['4.54', '4.73', '6.04', '5.23']\n",
      "Global mean CCR: 5.14\n",
      "Replica-to-replica SD: 0.67\n",
      "\n",
      "\n",
      "Analyzing 5xG4C2 - 696mMNaCl\n"
     ]
    },
    {
     "name": "stderr",
     "output_type": "stream",
     "text": [
      "Analyzing frames: 100%|█████████████████████████████████████████████████████████████████████████████████████████████████████████████████████████████████████████████████████████████| 401/401 [00:19<00:00, 20.41it/s]\n"
     ]
    },
    {
     "name": "stdout",
     "output_type": "stream",
     "text": [
      "  C1 mean CCR: 3.42\n"
     ]
    },
    {
     "name": "stderr",
     "output_type": "stream",
     "text": [
      "Analyzing frames: 100%|█████████████████████████████████████████████████████████████████████████████████████████████████████████████████████████████████████████████████████████████| 401/401 [00:20<00:00, 19.71it/s]\n"
     ]
    },
    {
     "name": "stdout",
     "output_type": "stream",
     "text": [
      "  C2 mean CCR: 4.33\n"
     ]
    },
    {
     "name": "stderr",
     "output_type": "stream",
     "text": [
      "Analyzing frames: 100%|█████████████████████████████████████████████████████████████████████████████████████████████████████████████████████████████████████████████████████████████| 401/401 [00:19<00:00, 20.09it/s]\n"
     ]
    },
    {
     "name": "stdout",
     "output_type": "stream",
     "text": [
      "  C3 mean CCR: 4.13\n"
     ]
    },
    {
     "name": "stderr",
     "output_type": "stream",
     "text": [
      "Analyzing frames: 100%|█████████████████████████████████████████████████████████████████████████████████████████████████████████████████████████████████████████████████████████████| 401/401 [00:20<00:00, 19.42it/s]\n"
     ]
    },
    {
     "name": "stdout",
     "output_type": "stream",
     "text": [
      "  C4 mean CCR: 4.64\n",
      "\n",
      "Condition: 696mMNaCl\n",
      "Replica means: ['3.42', '4.33', '4.13', '4.64']\n",
      "Global mean CCR: 4.13\n",
      "Replica-to-replica SD: 0.52\n",
      "\n",
      "\n",
      "Analyzing 8xG4C2 - 487mMNaCl\n"
     ]
    },
    {
     "name": "stderr",
     "output_type": "stream",
     "text": [
      "Analyzing frames: 100%|█████████████████████████████████████████████████████████████████████████████████████████████████████████████████████████████████████████████████████████████| 401/401 [00:53<00:00,  7.51it/s]\n"
     ]
    },
    {
     "name": "stdout",
     "output_type": "stream",
     "text": [
      "  C1 mean CCR: 13.31\n"
     ]
    },
    {
     "name": "stderr",
     "output_type": "stream",
     "text": [
      "Analyzing frames: 100%|█████████████████████████████████████████████████████████████████████████████████████████████████████████████████████████████████████████████████████████████| 401/401 [00:51<00:00,  7.78it/s]\n"
     ]
    },
    {
     "name": "stdout",
     "output_type": "stream",
     "text": [
      "  C2 mean CCR: 13.44\n"
     ]
    },
    {
     "name": "stderr",
     "output_type": "stream",
     "text": [
      "Analyzing frames: 100%|█████████████████████████████████████████████████████████████████████████████████████████████████████████████████████████████████████████████████████████████| 401/401 [00:53<00:00,  7.50it/s]\n"
     ]
    },
    {
     "name": "stdout",
     "output_type": "stream",
     "text": [
      "  C3 mean CCR: 16.12\n"
     ]
    },
    {
     "name": "stderr",
     "output_type": "stream",
     "text": [
      "Analyzing frames: 100%|█████████████████████████████████████████████████████████████████████████████████████████████████████████████████████████████████████████████████████████████| 401/401 [00:53<00:00,  7.51it/s]"
     ]
    },
    {
     "name": "stdout",
     "output_type": "stream",
     "text": [
      "  C4 mean CCR: 11.27\n",
      "\n",
      "Condition: 487mMNaCl\n",
      "Replica means: ['13.31', '13.44', '16.12', '11.27']\n",
      "Global mean CCR: 13.53\n",
      "Replica-to-replica SD: 1.99\n",
      "\n"
     ]
    },
    {
     "name": "stderr",
     "output_type": "stream",
     "text": [
      "\n"
     ]
    }
   ],
   "source": [
    "# %% Cell 4: Execute CCR Analysis\n",
    "bead_diameter = 0  # Bead diameter (Å), set to 0 for no correction\n",
    "\n",
    "# Analyze systems with different RNA chain lengths\n",
    "results_3x = analyze_conditions_ccr(conditions_3x, chains_3x, stride, bead_diameter, \"3xG4C2\")\n",
    "results_5x = analyze_conditions_ccr(conditions_5x, chains_5x, stride, bead_diameter, \"5xG4C2\")\n",
    "results_8x = analyze_conditions_ccr(conditions_8x, chains_8x, stride, bead_diameter, \"8xG4C2\")"
   ]
  },
  {
   "cell_type": "code",
   "execution_count": 5,
   "id": "68a5aa83-16fa-44cf-8d8b-5360ad0b0841",
   "metadata": {},
   "outputs": [],
   "source": [
    "# %% Cell 5: Process Data & Save Results\n",
    "import pandas as pd\n",
    "def process_and_save_data(results, filename_prefix):\n",
    "    \"\"\"\n",
    "    Process analysis results into DataFrames and save as CSV files.\n",
    "    \n",
    "    Parameters:\n",
    "        results (dict): Analysis results dictionary\n",
    "        filename_prefix (str): Output filename prefix\n",
    "        \n",
    "    Returns:\n",
    "        None: Saves CSV files directly\n",
    "    \"\"\"\n",
    "    df_list = []\n",
    "    for cond, data in results.items():\n",
    "        times, avg_ccr, std_ccr, global_mean, sd = data\n",
    "        temp_df = pd.DataFrame({\n",
    "            'Time (µs)': times,\n",
    "            'CCR (avg)': avg_ccr,\n",
    "            'CCR (std)': std_ccr,\n",
    "            'Global Mean': global_mean,\n",
    "            'Replica SD': sd\n",
    "        })\n",
    "        temp_df['Condition'] = cond\n",
    "        df_list.append(temp_df)\n",
    "    combined_df = pd.concat(df_list)\n",
    "    combined_df.to_csv(f\"{filename_prefix}_ccr_data.csv\", index=False)\n",
    "# Save analysis results for each system\n",
    "process_and_save_data(results_3x, \"3xG4C2\")\n",
    "process_and_save_data(results_5x, \"5xG4C2\")\n",
    "process_and_save_data(results_8x, \"8xG4C2\")"
   ]
  },
  {
   "cell_type": "code",
   "execution_count": 9,
   "id": "c9340577-9e82-48e2-b987-f68623c1d762",
   "metadata": {
    "scrolled": true
   },
   "outputs": [
    {
     "name": "stdout",
     "output_type": "stream",
     "text": [
      "Data files loaded successfully.\n",
      "3xG4C2 | neutral:\n",
      "  Global Mean = 19.34 ± 1.41\n",
      "3xG4C2 | 17mMNaCl:\n",
      "  Global Mean = 12.77 ± 1.67\n",
      "3xG4C2 | 35mMNaCl:\n",
      "  Global Mean = 10.01 ± 1.10\n",
      "3xG4C2 | 70mMNaCl:\n",
      "  Global Mean = 8.04 ± 0.72\n",
      "3xG4C2 | 139mMNaCl:\n",
      "  Global Mean = 7.12 ± 0.80\n",
      "3xG4C2 | 278mMNaCl:\n",
      "  Global Mean = 5.22 ± 0.40\n",
      "3xG4C2 | 487mMNaCl:\n",
      "  Global Mean = 2.50 ± 0.33\n",
      "3xG4C2 | 696mMNaCl:\n",
      "  Global Mean = 1.49 ± 0.16\n",
      "5xG4C2 | neutral:\n",
      "  Global Mean = 30.90 ± 3.91\n",
      "5xG4C2 | 17mMNaCl:\n",
      "  Global Mean = 25.05 ± 2.54\n",
      "5xG4C2 | 35mMNaCl:\n",
      "  Global Mean = 21.08 ± 3.12\n",
      "5xG4C2 | 70mMNaCl:\n",
      "  Global Mean = 15.27 ± 0.98\n",
      "5xG4C2 | 139mMNaCl:\n",
      "  Global Mean = 12.36 ± 1.22\n",
      "5xG4C2 | 278mMNaCl:\n",
      "  Global Mean = 9.95 ± 1.25\n",
      "5xG4C2 | 487mMNaCl:\n",
      "  Global Mean = 5.14 ± 0.67\n",
      "5xG4C2 | 696mMNaCl:\n",
      "  Global Mean = 4.13 ± 0.52\n",
      "No data for 8xG4C2 @ neutral\n",
      "No data for 8xG4C2 @ 17mMNaCl\n",
      "No data for 8xG4C2 @ 35mMNaCl\n",
      "No data for 8xG4C2 @ 70mMNaCl\n",
      "No data for 8xG4C2 @ 139mMNaCl\n",
      "No data for 8xG4C2 @ 278mMNaCl\n",
      "8xG4C2 | 487mMNaCl:\n",
      "  Global Mean = 13.53 ± 1.99\n",
      "No data for 8xG4C2 @ 696mMNaCl\n"
     ]
    },
    {
     "data": {
      "image/png": "[encoded data removed]",
      "text/plain": [
       "<Figure size 999x750 with 1 Axes>"
      ]
     },
     "metadata": {},
     "output_type": "display_data"
    }
   ],
   "source": [
    "#%%Cell 6: Generate Salt Concentration vs. CCR Plotimport pandas as pd\n",
    "\"\"\"\n",
    "Plot salt concentration versus average inter-chain CCR,\n",
    "with dual axes for NaCl and MgCl2 concentrations (converted by factor 0.6).\n",
    "\"\"\"\n",
    "import os\n",
    "import numpy as np\n",
    "import matplotlib.pyplot as plt\n",
    "from matplotlib.ticker import MultipleLocator\n",
    "\n",
    "def plot_salt_concentration_vs_ccr():\n",
    "    nacl_to_mgcl2 = lambda x: x * 0.6 # Conversion factor between NaCl and MgCl2 concentrations\n",
    "    mgcl2_to_nacl = lambda x: x / 0.6\n",
    "    try:\n",
    "        df_3x = pd.read_csv(\"3xG4C2_ccr_data.csv\")\n",
    "        df_5x = pd.read_csv(\"5xG4C2_ccr_data.csv\") \n",
    "        df_8x = pd.read_csv(\"8xG4C2_ccr_data.csv\") if os.path.exists(\"8xG4C2_ccr_data.csv\") else None\n",
    "        print(\"Data files loaded successfully.\")\n",
    "    except Exception as e:\n",
    "        print(f\"Critical error loading data: {str(e)}\")\n",
    "        return\n",
    "    # Configure plot style according to journal requirements\n",
    "    plt.rcParams.update({\n",
    "        'font.size': 7,\n",
    "        'axes.labelsize': 8,\n",
    "        'xtick.labelsize': 7,\n",
    "        'ytick.labelsize': 7,\n",
    "        'font.family': 'DejaVu Sans',\n",
    "        'figure.dpi': 300,\n",
    "        'figure.figsize': (3.33, 2.5),  \n",
    "        'axes.linewidth': 0.6,\n",
    "        'grid.linewidth': 0.4,\n",
    "        'lines.linewidth': 1.0,\n",
    "        'lines.markeredgewidth': 0.6,\n",
    "        'savefig.dpi': 300,\n",
    "        'savefig.format': 'png',\n",
    "        'pdf.fonttype': 42\n",
    "    })\n",
    "\n",
    "    fig, ax = plt.subplots()\n",
    "    systems = {\n",
    "        '3xG4C2': {'df': df_3x, 'color': '#009E73', 'marker': 'o'},\n",
    "        '5xG4C2': {'df': df_5x, 'color': '#0072B2', 'marker': 's'},\n",
    "        '8xG4C2': {'df': df_8x, 'color': '#E69F00', 'marker': 'D'}\n",
    "    }\n",
    "    salt_conditions = [\n",
    "        (\"neutral\", 0), (\"17mMNaCl\", 17), (\"35mMNaCl\", 35),\n",
    "        (\"70mMNaCl\", 70), (\"139mMNaCl\", 139), (\"278mMNaCl\", 278),\n",
    "        (\"487mMNaCl\", 487), (\"696mMNaCl\", 696)\n",
    "    ]\n",
    "\n",
    "    for sys_name, sys_config in systems.items():\n",
    "        if sys_config['df'] is None:\n",
    "            continue\n",
    "            \n",
    "        x_values = []\n",
    "        y_means = []\n",
    "        y_errors = []\n",
    "        \n",
    "        # Calculate average CCR for each salt condition (using equilibrated data after 8μs)\n",
    "        for cond_label, nacl_conc in salt_conditions:\n",
    "            # Filter data for current condition and time window\n",
    "            cond_data = sys_config['df'][\n",
    "                (sys_config['df']['Condition'] == cond_label) &\n",
    "                (sys_config['df']['Time (µs)'] >= 8)\n",
    "            ]\n",
    "            \n",
    "            if cond_data.empty:\n",
    "                print(f\"No data for {sys_name} @ {cond_label}\")\n",
    "                continue\n",
    "                \n",
    "            # Extract pre-calculated global mean and standard deviation\n",
    "            try:\n",
    "                # Get pre-computed global mean and SD\n",
    "                global_mean = cond_data['Global Mean'].iloc[0]\n",
    "                replica_sd = cond_data['Replica SD'].iloc[0]\n",
    "            except KeyError:\n",
    "                print(f\"Missing SD data for {sys_name} @ {cond_label}\")\n",
    "                continue\n",
    "                \n",
    "            x_values.append(nacl_conc)\n",
    "            y_means.append(global_mean)\n",
    "            y_errors.append(replica_sd)\n",
    "            \n",
    "            # Debug print\n",
    "            print(f\"{sys_name} | {cond_label}:\")\n",
    "            print(f\"  Global Mean = {global_mean:.2f} ± {replica_sd:.2f}\")\n",
    "\n",
    "        # Plot with error bars\n",
    "        if x_values:\n",
    "            ax.errorbar(\n",
    "                x_values, y_means, yerr=y_errors,\n",
    "                fmt=sys_config['marker'],\n",
    "                markersize=4.5,\n",
    "                color=sys_config['color'],\n",
    "                markerfacecolor=sys_config['color'],\n",
    "                markeredgecolor='k',\n",
    "                markeredgewidth=0.4,\n",
    "                ecolor='k',\n",
    "                elinewidth=0.7,\n",
    "                capsize=3,\n",
    "                capthick=0.7,\n",
    "                label=sys_name,\n",
    "                zorder=3\n",
    "            )\n",
    "\n",
    "    ax.set_xlabel('NaCl Concentration (mM)', labelpad=2)\n",
    "    ax.set_ylabel('Inter-chain Average CCR', labelpad=2)\n",
    "    ax.set_xlim(-20, 720)\n",
    "    ax.set_xticks(np.arange(0, 701, 100))\n",
    "    # ax.xaxis.set_minor_locator(MultipleLocator(50))\n",
    "    ax.tick_params(axis='both', which='both', length=0, pad=2)\n",
    "    ax2 = ax.secondary_xaxis('top', functions=(nacl_to_mgcl2, mgcl2_to_nacl))\n",
    "    ax2.set_xlabel('MgCl$_2$ Concentration (mM)', labelpad=5)\n",
    "    ax2.set_xticks(np.arange(0, 421, 60))\n",
    "    # ax2.xaxis.set_minor_locator(MultipleLocator(30))\n",
    "    ax2.tick_params(axis='x', length=0, pad=2)\n",
    "    ax.grid(True, which='major', linestyle='--', linewidth=0.4, alpha=0.4)\n",
    "    ax.grid(True, which='minor', linestyle=':', linewidth=0.3, alpha=0.2)\n",
    "    \n",
    "    ax.legend(\n",
    "        frameon=False,\n",
    "        loc='upper right',\n",
    "        borderpad=0.2,\n",
    "        handletextpad=0.4,\n",
    "        labelspacing=0.3\n",
    "    )\n",
    "\n",
    "    plt.subplots_adjust(\n",
    "        left=0.18,\n",
    "        # right=0.78,\n",
    "        bottom=0.16,\n",
    "        top=0.84\n",
    "    )\n",
    "\n",
    "    plt.savefig('FigureS3b.png', dpi=300, bbox_inches='tight')\n",
    "    plt.show()\n",
    "\n",
    "# Generate plot\n",
    "plot_salt_concentration_vs_ccr()"
   ]
  },
  {
   "cell_type": "code",
   "execution_count": 11,
   "id": "bab4b4a9-47ed-4241-97ed-23a8f8155857",
   "metadata": {},
   "outputs": [
    {
     "name": "stdout",
     "output_type": "stream",
     "text": [
      "Data files loaded successfully.\n",
      "3xG4C2 - Mean: 2.50, SD: 0.33\n",
      "5xG4C2 - Mean: 5.14, SD: 0.67\n",
      "8xG4C2 - Mean: 13.53, SD: 1.99\n"
     ]
    },
    {
     "data": {
      "image/png": "[encoded data removed]",
      "text/plain": [
       "<Figure size 999x750 with 1 Axes>"
      ]
     },
     "metadata": {},
     "output_type": "display_data"
    }
   ],
   "source": [
    "#%% cell 6   Generate Bar Plot for 487mM NaCl Condition\n",
    "import pandas as pd\n",
    "import os\n",
    "import numpy as np\n",
    "import matplotlib.pyplot as plt\n",
    "\n",
    "def plot_ccr_bar_jpcl():\n",
    "    \"\"\"\n",
    "    Generate bar plot comparing CCR values across different RNA lengths\n",
    "    at 487mM NaCl (292mM MgCl2) condition.\n",
    "    \"\"\"\n",
    "    try:\n",
    "        df_3x = pd.read_csv(\"3xG4C2_ccr_data.csv\")\n",
    "        df_5x = pd.read_csv(\"5xG4C2_ccr_data.csv\")\n",
    "        df_8x = pd.read_csv(\"8xG4C2_ccr_data.csv\") if os.path.exists(\"8xG4C2_ccr_data.csv\") else None\n",
    "        print(\"Data files loaded successfully.\")\n",
    "    except Exception as e:\n",
    "        print(f\"Error loading data files: {e}\")\n",
    "        return\n",
    "    plt.rcParams.update({\n",
    "        'font.size': 7,         \n",
    "        'axes.labelsize': 8,    \n",
    "        'xtick.labelsize': 7,\n",
    "        'ytick.labelsize': 7,\n",
    "        'legend.fontsize': 7,\n",
    "        'figure.figsize': (3.33, 2.5), \n",
    "        'axes.linewidth': 0.6,   \n",
    "        'grid.linewidth': 0.4,\n",
    "        'xtick.major.width': 0,  \n",
    "        'ytick.major.width': 0,\n",
    "        'savefig.dpi': 300,\n",
    "        'pdf.fonttype': 42,\n",
    "        'font.family': 'DejaVu Sans',\n",
    "        'mathtext.default': 'regular'\n",
    "    })\n",
    "    fig, ax = plt.subplots()\n",
    "\n",
    "    systems = {\n",
    "        '3xG4C2': df_3x,\n",
    "        '5xG4C2': df_5x,\n",
    "        '8xG4C2': df_8x\n",
    "    }\n",
    "    colors = ['#009E73', '#0072B2','#E69F00']\n",
    "    target_condition = '487mMNaCl'\n",
    "\n",
    "    ccr_values = []\n",
    "    labels = []\n",
    "    valid_colors = []\n",
    "    errors = []     \n",
    "    for idx, (system, df) in enumerate(systems.items()):\n",
    "        if df is None:\n",
    "            print(f\"Skipping {system} - no data file\")\n",
    "            continue\n",
    "        filtered = df[df['Condition'] == target_condition]\n",
    "        if not filtered.empty:\n",
    "            global_mean = filtered['Global Mean'].iloc[0]\n",
    "            sd = filtered['Replica SD'].iloc[0]\n",
    "            \n",
    "            ccr_values.append(global_mean)\n",
    "            errors.append(sd)\n",
    "            labels.append(system.replace('G4C2', 'G4C2'))\n",
    "            valid_colors.append(colors[idx])\n",
    "            \n",
    "            print(f\"{system} - Mean: {global_mean:.2f}, SD: {sd:.2f}\")\n",
    "    bar_width = 0.33  \n",
    "    spacing = 0     \n",
    "    x_pos = np.arange(len(labels)) * (bar_width + spacing)  \n",
    "\n",
    "    ax.bar(x_pos, ccr_values, yerr=errors,\n",
    "           color=valid_colors, \n",
    "           width=bar_width,\n",
    "           edgecolor='black',\n",
    "           linewidth=0.5,\n",
    "           align='edge',         \n",
    "           error_kw={'elinewidth': 0.7,'capsize': 3,'capthick': 0.7})    \n",
    "\n",
    "    # leg.get_frame().set_linewidth(0.2)  \n",
    "    ax.set_xticks(x_pos + bar_width/2)        \n",
    "    ax.set_xticklabels(systems)#labels\n",
    "\n",
    "    # ax.set_xticks(x_pos)\n",
    "    # ax.set_xticklabels(labels)\n",
    "    ax.set_xlabel('RNA Length', labelpad=2)\n",
    "    ax.set_ylabel('Average CCR', labelpad=2)\n",
    "    ax.set_xlim(x_pos[0]-0.5, x_pos[-1]+bar_width+0.5) \n",
    "\n",
    "    legend_elements = [\n",
    "        \n",
    "    plt.Line2D([0], [0], \n",
    "                   marker='s',  \n",
    "                   color='w',   \n",
    "                   markerfacecolor='w',\n",
    "                   markeredgecolor='k',  \n",
    "                   markersize=8,         \n",
    "                   markeredgewidth=0.5,  \n",
    "                   linestyle='None',\n",
    "                   label='487mM NaCl 292mM MgCl₂')\n",
    "    ]\n",
    "\n",
    "    leg = ax.legend(handles=legend_elements,\n",
    "                   loc='upper left',\n",
    "                   framealpha=1,        \n",
    "                   edgecolor='w',      \n",
    "                   facecolor='white',  \n",
    "                   handletextpad=0.2, \n",
    "                   borderaxespad=0.5,   \n",
    "                   prop={'size': 7})  \n",
    "\n",
    "    ax.yaxis.grid(True, linestyle='--', alpha=0.4, linewidth=0.4)\n",
    "\n",
    "    plt.subplots_adjust(\n",
    "        left=0.12,    \n",
    "        right=0.98,   \n",
    "        bottom=0.16,  \n",
    "        top=0.92      \n",
    "    )\n",
    "\n",
    "    plt.tight_layout(pad=0.5)\n",
    "    plt.savefig('Figure2d.png', dpi=300, bbox_inches='tight', pad_inches=0.02)\n",
    "    plt.show()\n",
    "\n",
    "# Generate the plot\n",
    "plot_ccr_bar_jpcl()"
   ]
  },
  {
   "cell_type": "code",
   "execution_count": 13,
   "id": "d7468aff-8053-40b2-a943-1d864c5623e2",
   "metadata": {},
   "outputs": [
    {
     "name": "stdout",
     "output_type": "stream",
     "text": [
      "Data file loaded successfully\n",
      "3xG4C2 - Normalized mean: 0.0116, Normalized SD: 0.0015\n",
      "5xG4C2 - Normalized mean: 0.0143, Normalized SD: 0.0019\n",
      "8xG4C2 - Normalized mean: 0.0235, Normalized SD: 0.0035\n"
     ]
    },
    {
     "data": {
      "image/png": "[encoded data removed]",
      "text/plain": [
       "<Figure size 999x750 with 1 Axes>"
      ]
     },
     "metadata": {},
     "output_type": "display_data"
    }
   ],
   "source": [
    "#%% Cell 7: Generate Normalized CCR Bar Plot\n",
    "\"\"\"\n",
    "Compute normalization factor for inter-chain CCR based on system size.\n",
    "    \n",
    "Parameters:\n",
    "    num_chains (int): Number of RNA chains\n",
    "    beads_per_chain (int): Number of 'BB' beads per chain\n",
    "        \n",
    "Returns:\n",
    "    float: Normalization factor\n",
    "\"\"\"\n",
    "import pandas as pd\n",
    "import os\n",
    "import numpy as np\n",
    "import matplotlib.pyplot as plt\n",
    "\n",
    "def compute_inter_chain_normalization(num_chains, beads_per_chain):\n",
    "    return num_chains * beads_per_chain\n",
    "\n",
    "def plot_ccr_bar_jpcl():\n",
    "    \"\"\"\n",
    "    Generate bar plot comparing normalized CCR values across different RNA lengths\n",
    "    at 487mM NaCl (292mM MgCl2) condition.\n",
    "    \"\"\"\n",
    "    systems_params = {\n",
    "        '3xG4C2': {'num_chains': 12, 'beads_per_chain': 18},\n",
    "        '5xG4C2': {'num_chains': 12, 'beads_per_chain': 30},\n",
    "        '8xG4C2': {'num_chains': 12, 'beads_per_chain': 48}\n",
    "    }\n",
    "    try:\n",
    "        df_3x = pd.read_csv(\"3xG4C2_ccr_data.csv\")\n",
    "        df_5x = pd.read_csv(\"5xG4C2_ccr_data.csv\")\n",
    "        df_8x = pd.read_csv(\"8xG4C2_ccr_data.csv\") if os.path.exists(\"8xG4C2_ccr_data.csv\") else None\n",
    "        print(\"Data file loaded successfully\")\n",
    "    except Exception as e:\n",
    "        print(f\"Error loading data file: {e}\")\n",
    "        return\n",
    "    plt.rcParams.update({\n",
    "        'font.size': 7,          \n",
    "        'axes.labelsize': 8,      \n",
    "        'xtick.labelsize': 7,\n",
    "        'ytick.labelsize': 7,\n",
    "        'legend.fontsize': 7,\n",
    "        'figure.figsize': (3.33, 2.5),  \n",
    "        'axes.linewidth': 0.6,    \n",
    "        'grid.linewidth': 0.4,\n",
    "        'xtick.major.width': 0,  \n",
    "        'ytick.major.width': 0,\n",
    "        'savefig.dpi': 300,\n",
    "        'pdf.fonttype': 42,\n",
    "        'font.family': 'DejaVu Sans',\n",
    "        'mathtext.default': 'regular'\n",
    "    })\n",
    "    \n",
    "    fig, ax = plt.subplots()\n",
    "    systems = {\n",
    "        '3xG4C2': df_3x,\n",
    "        '5xG4C2': df_5x,\n",
    "        '8xG4C2': df_8x\n",
    "    }\n",
    "    colors = ['#009E73', '#0072B2','#E69F00']\n",
    "    target_condition = '487mMNaCl'\n",
    "\n",
    "    ccr_values = []\n",
    "    labels = []\n",
    "    valid_colors = []\n",
    "    errors = []    \n",
    "    for idx, (system, df) in enumerate(systems.items()):\n",
    "        if df is None:\n",
    "            print(f\"Skipping {system} - no data file\")\n",
    "            continue\n",
    "        filtered = df[df['Condition'] == target_condition]\n",
    "        if not filtered.empty:\n",
    "            # Get the raw data\n",
    "            global_mean = filtered['Global Mean'].iloc[0]\n",
    "            sd = filtered['Replica SD'].iloc[0]\n",
    "            \n",
    "            # Calculate the normalization fact\n",
    "            params = systems_params.get(system, {'num_chains': 1, 'beads_per_chain': 1})\n",
    "            norm_factor = compute_inter_chain_normalization(params['num_chains'], params['beads_per_chain'])\n",
    "            \n",
    "            # Perform normalization\n",
    "            normalized_mean = global_mean / norm_factor\n",
    "            normalized_sd = sd / norm_factor  # SD normalization method\n",
    "            \n",
    "            ccr_values.append(normalized_mean)\n",
    "            errors.append(normalized_sd)\n",
    "            labels.append(system.replace('G4C2', 'G4C2'))\n",
    "            valid_colors.append(colors[idx])\n",
    "            \n",
    "            print(f\"{system} - Normalized mean: {normalized_mean:.4f}, Normalized SD: {normalized_sd:.4f}\")\n",
    "            \n",
    "    bar_width = 0.33  \n",
    "    spacing = 0    \n",
    "    x_pos = np.arange(len(labels)) * (bar_width + spacing)  \n",
    "\n",
    "    ax.bar(x_pos, ccr_values, yerr=errors,\n",
    "           color=valid_colors, \n",
    "           width=bar_width,\n",
    "           edgecolor='black',\n",
    "           linewidth=0.5,\n",
    "           align='edge',            \n",
    "           error_kw={'elinewidth': 0.7,\n",
    "                     'capsize': 3,\n",
    "                     'capthick': 0.7})    \n",
    "\n",
    "    legend_elements = [plt.Line2D([0], [0], \n",
    "                   marker='s',  \n",
    "                   color='w',   \n",
    "                   markerfacecolor='w',\n",
    "                   markeredgecolor='k',  \n",
    "                   markersize=8,         \n",
    "                   markeredgewidth=0.5,  \n",
    "                   linestyle='None',\n",
    "                   label='487mM NaCl 292mM MgCl₂')]\n",
    "    \n",
    "    leg = ax.legend(handles=legend_elements,\n",
    "                   loc='upper left',\n",
    "                   framealpha=1,          \n",
    "                   edgecolor='w',         \n",
    "                   facecolor='white',     \n",
    "                   handletextpad=0.2,     \n",
    "                   borderaxespad=0.5,     \n",
    "                   prop={'size': 7})      \n",
    "    leg.get_frame().set_linewidth(0.2)\n",
    "    ax.set_xticks(x_pos + bar_width/2)      \n",
    "    ax.set_xticklabels(labels)\n",
    "    ax.set_xlabel('RNA Length', labelpad=2)\n",
    "    ax.set_ylabel('Normalized CCR / Nt', labelpad=2)\n",
    "    ax.set_xlim(x_pos[0]-0.5, x_pos[-1]+bar_width+0.5)\n",
    "\n",
    "    ax.yaxis.grid(True, linestyle='--', alpha=0.4, linewidth=0.4)\n",
    "    ax.spines[['top', 'right']].set_visible(True)\n",
    "    ax.tick_params(axis='both', which='both', length=0, pad=2)\n",
    "\n",
    "    plt.subplots_adjust(\n",
    "        left=0.12,    \n",
    "        right=0.98,   \n",
    "        bottom=0.16,  \n",
    "        top=0.92      \n",
    "    )\n",
    "\n",
    "    plt.tight_layout(pad=0.5)\n",
    "    plt.savefig('FigureS3a.png', dpi=300, bbox_inches='tight', pad_inches=0.02)\n",
    "\n",
    "    plt.show()\n",
    "\n",
    "plot_ccr_bar_jpcl()"
   ]
  },
  {
   "cell_type": "code",
   "execution_count": null,
   "id": "0d9ae47f-1101-4942-8a3c-7a71722942fc",
   "metadata": {},
   "outputs": [],
   "source": []
  },
  {
   "cell_type": "code",
   "execution_count": null,
   "id": "708a9047-2511-48cb-acc2-46330aca27a9",
   "metadata": {},
   "outputs": [],
   "source": []
  }
 ],
 "metadata": {
  "kernelspec": {
   "display_name": "Python 3 (ipykernel)",
   "language": "python",
   "name": "python3"
  },
  "language_info": {
   "codemirror_mode": {
    "name": "ipython",
    "version": 3
   },
   "file_extension": ".py",
   "mimetype": "text/x-python",
   "name": "python",
   "nbconvert_exporter": "python",
   "pygments_lexer": "ipython3",
   "version": "3.12.2"
  }
 },
 "nbformat": 4,
 "nbformat_minor": 5
}
